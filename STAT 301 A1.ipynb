{
 "cells": [
  {
   "cell_type": "markdown",
   "id": "7c9f0949-692c-4428-b346-3cfc88d2cf2e",
   "metadata": {},
   "source": [
    "# Planning Stage: Individual Assignment 1 - Data Description and Exploratory Data Analysis"
   ]
  },
  {
   "cell_type": "code",
   "execution_count": 1,
   "id": "466140f8-45b4-4b4e-935e-3250bf6f5d8f",
   "metadata": {},
   "outputs": [
    {
     "name": "stderr",
     "output_type": "stream",
     "text": [
      "── \u001b[1mAttaching core tidyverse packages\u001b[22m ──────────────────────── tidyverse 2.0.0 ──\n",
      "\u001b[32m✔\u001b[39m \u001b[34mdplyr    \u001b[39m 1.1.4     \u001b[32m✔\u001b[39m \u001b[34mreadr    \u001b[39m 2.1.5\n",
      "\u001b[32m✔\u001b[39m \u001b[34mforcats  \u001b[39m 1.0.0     \u001b[32m✔\u001b[39m \u001b[34mstringr  \u001b[39m 1.5.1\n",
      "\u001b[32m✔\u001b[39m \u001b[34mggplot2  \u001b[39m 3.5.1     \u001b[32m✔\u001b[39m \u001b[34mtibble   \u001b[39m 3.2.1\n",
      "\u001b[32m✔\u001b[39m \u001b[34mlubridate\u001b[39m 1.9.3     \u001b[32m✔\u001b[39m \u001b[34mtidyr    \u001b[39m 1.3.1\n",
      "\u001b[32m✔\u001b[39m \u001b[34mpurrr    \u001b[39m 1.0.2     \n",
      "── \u001b[1mConflicts\u001b[22m ────────────────────────────────────────── tidyverse_conflicts() ──\n",
      "\u001b[31m✖\u001b[39m \u001b[34mdplyr\u001b[39m::\u001b[32mcombine()\u001b[39m masks \u001b[34mgridExtra\u001b[39m::combine()\n",
      "\u001b[31m✖\u001b[39m \u001b[34mdplyr\u001b[39m::\u001b[32mfilter()\u001b[39m  masks \u001b[34mstats\u001b[39m::filter()\n",
      "\u001b[31m✖\u001b[39m \u001b[34mdplyr\u001b[39m::\u001b[32mlag()\u001b[39m     masks \u001b[34mstats\u001b[39m::lag()\n",
      "\u001b[36mℹ\u001b[39m Use the conflicted package (\u001b[3m\u001b[34m<http://conflicted.r-lib.org/>\u001b[39m\u001b[23m) to force all conflicts to become errors\n"
     ]
    }
   ],
   "source": [
    "library(gridExtra)\n",
    "library(faraway)\n",
    "library(broom)\n",
    "library(tidyverse)\n",
    "library(leaps)"
   ]
  },
  {
   "cell_type": "code",
   "execution_count": 2,
   "id": "d806e049-fd56-489c-b7a1-457d0d860851",
   "metadata": {},
   "outputs": [
    {
     "name": "stderr",
     "output_type": "stream",
     "text": [
      "\u001b[1m\u001b[22mNew names:\n",
      "\u001b[36m•\u001b[39m `` -> `...1`\n",
      "\u001b[1mRows: \u001b[22m\u001b[34m3290\u001b[39m \u001b[1mColumns: \u001b[22m\u001b[34m10\u001b[39m\n",
      "\u001b[36m──\u001b[39m \u001b[1mColumn specification\u001b[22m \u001b[36m────────────────────────────────────────────────────────\u001b[39m\n",
      "\u001b[1mDelimiter:\u001b[22m \",\"\n",
      "\u001b[31mchr\u001b[39m (6): restaurant, url, city, price_range, category_1, category_2\n",
      "\u001b[32mdbl\u001b[39m (4): ...1, distance, star, num_reviews\n",
      "\n",
      "\u001b[36mℹ\u001b[39m Use `spec()` to retrieve the full column specification for this data.\n",
      "\u001b[36mℹ\u001b[39m Specify the column types or set `show_col_types = FALSE` to quiet this message.\n"
     ]
    }
   ],
   "source": [
    "door_dash <- read_csv(\"data/cleaned_full_data.csv\")"
   ]
  },
  {
   "cell_type": "markdown",
   "id": "95a4a3fc-1858-4a0d-987f-9fa68ef13353",
   "metadata": {},
   "source": [
    "Data Description:\n",
    "\n",
    "The data set for my group is a compilation of eight data sets that each show restaurants within under 30 minutes delivery time in eight different populous cities in Canada. The original data was collected from the Door Dash website and the eight data sets were compiled and cleaned by Kaggle user Satoshi_S: https://www.kaggle.com/code/satoshiss/clean-restaurant-raw-data. \n",
    "\n"
   ]
  },
  {
   "cell_type": "code",
   "execution_count": 15,
   "id": "1d3f7402-91a8-48b1-8f0e-a73331db3283",
   "metadata": {},
   "outputs": [
    {
     "data": {
      "text/html": [
       "'There are 3290 observations and 10 variables in this dataset.'"
      ],
      "text/latex": [
       "'There are 3290 observations and 10 variables in this dataset.'"
      ],
      "text/markdown": [
       "'There are 3290 observations and 10 variables in this dataset.'"
      ],
      "text/plain": [
       "[1] \"There are 3290 observations and 10 variables in this dataset.\""
      ]
     },
     "metadata": {},
     "output_type": "display_data"
    }
   ],
   "source": [
    "paste(\"There are\", nrow(door_dash), \"observations and\", ncol(door_dash), \"variables in this dataset.\")"
   ]
  },
  {
   "cell_type": "code",
   "execution_count": 16,
   "id": "9a5ad824-6417-4e05-8b2f-5a814adddcfb",
   "metadata": {},
   "outputs": [
    {
     "data": {
      "text/plain": [
       "      ...1         restaurant            url               distance     \n",
       " Min.   :   0.0   Length:3290        Length:3290        Min.   : 0.010  \n",
       " 1st Qu.: 822.2   Class :character   Class :character   1st Qu.: 0.500  \n",
       " Median :1644.5   Mode  :character   Mode  :character   Median : 1.000  \n",
       " Mean   :1644.5                                         Mean   : 5.039  \n",
       " 3rd Qu.:2466.8                                         3rd Qu.: 1.600  \n",
       " Max.   :3289.0                                         Max.   :30.000  \n",
       "                                                                        \n",
       "      star        num_reviews          city           price_range       \n",
       " Min.   :1.000   Min.   :   10.0   Length:3290        Length:3290       \n",
       " 1st Qu.:4.300   1st Qu.:   57.0   Class :character   Class :character  \n",
       " Median :4.500   Median :  182.0   Mode  :character   Mode  :character  \n",
       " Mean   :4.451   Mean   :  570.4                                        \n",
       " 3rd Qu.:4.700   3rd Qu.:  560.0                                        \n",
       " Max.   :5.000   Max.   :21000.0                                        \n",
       " NA's   :280     NA's   :670                                            \n",
       "  category_1         category_2       \n",
       " Length:3290        Length:3290       \n",
       " Class :character   Class :character  \n",
       " Mode  :character   Mode  :character  \n",
       "                                      \n",
       "                                      \n",
       "                                      \n",
       "                                      "
      ]
     },
     "metadata": {},
     "output_type": "display_data"
    }
   ],
   "source": [
    "summary(door_dash)"
   ]
  },
  {
   "cell_type": "markdown",
   "id": "7f2eaaa1-320a-47d4-8994-1fb8502003cb",
   "metadata": {},
   "source": [
    "Pre-selection of variables:\n",
    "\n",
    "I will be dropping the first variable labeled ...1. This variable is an index and therefore should not be involved in any model I create. Additionally, I will also be dropping the url variable for a similar reason. Each of the urls are identical except for the unique numerical sequence that indicates which website to direct to, essentially making the URL equivalent to an ID and therefore irrelavent to my future analysis."
   ]
  },
  {
   "cell_type": "markdown",
   "id": "8749a5dc-cd8a-4316-94ea-f4d55f8dec4b",
   "metadata": {},
   "source": [
    "Question:\n",
    "\n",
    "a) I want to examine the association between the star rating of a restuarant (response) and predictors related to the restaurant such as price, category, location, and distance as well as the number of reviews.\n",
    "\n",
    "b) My question is focused on inference because I am taking information from an observational study and looking to glean information into associations not causations. "
   ]
  },
  {
   "cell_type": "code",
   "execution_count": null,
   "id": "72f6e5c2-0562-4411-843c-6fca34a414e7",
   "metadata": {},
   "outputs": [],
   "source": []
  }
 ],
 "metadata": {
  "kernelspec": {
   "display_name": "R",
   "language": "R",
   "name": "ir"
  },
  "language_info": {
   "codemirror_mode": "r",
   "file_extension": ".r",
   "mimetype": "text/x-r-source",
   "name": "R",
   "pygments_lexer": "r",
   "version": "4.3.3"
  }
 },
 "nbformat": 4,
 "nbformat_minor": 5
}
